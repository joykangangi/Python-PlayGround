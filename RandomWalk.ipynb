{
 "cells": [
  {
   "attachments": {},
   "cell_type": "markdown",
   "metadata": {},
   "source": [
    "### PART 1"
   ]
  },
  {
   "cell_type": "code",
   "execution_count": 1,
   "metadata": {},
   "outputs": [
    {
     "name": "stdout",
     "output_type": "stream",
     "text": [
      "(-1, -1) Distance from home =  2\n",
      "(-2, 4) Distance from home =  6\n",
      "(0, 4) Distance from home =  4\n",
      "(4, -2) Distance from home =  6\n",
      "(1, 1) Distance from home =  2\n",
      "(-1, 1) Distance from home =  2\n",
      "(-2, -4) Distance from home =  6\n",
      "(1, -1) Distance from home =  2\n",
      "(2, -4) Distance from home =  6\n",
      "(-2, -4) Distance from home =  6\n",
      "(0, -2) Distance from home =  2\n",
      "(0, -2) Distance from home =  2\n",
      "(2, -2) Distance from home =  4\n",
      "(2, 0) Distance from home =  2\n",
      "(1, 7) Distance from home =  8\n",
      "(-1, -3) Distance from home =  4\n",
      "(-3, -1) Distance from home =  4\n",
      "(1, -1) Distance from home =  2\n",
      "(-4, 0) Distance from home =  4\n",
      "(3, 1) Distance from home =  4\n",
      "(1, -3) Distance from home =  4\n",
      "(4, 2) Distance from home =  6\n",
      "(-3, 5) Distance from home =  8\n",
      "(6, -4) Distance from home =  10\n",
      "(1, 1) Distance from home =  2\n"
     ]
    }
   ],
   "source": [
    "#n-> number of block to walk \n",
    "# return coordinates after 'n' block random walks\n",
    "import random\n",
    "\n",
    "def random_walk(n):\n",
    "    x = 0\n",
    "    y = 0\n",
    "    for i in range(n):\n",
    "        step = random.choice(['N','S','E','W'])\n",
    "        if step == 'N':\n",
    "            y = y + 1\n",
    "        elif step == 'S':\n",
    "            y = y - 1\n",
    "        elif step == 'E':\n",
    "            x = x + 1\n",
    "        else:\n",
    "            x = x - 1\n",
    "    return(x,y) #tuple\n",
    "\n",
    "for i in range(25):\n",
    "    walk = random_walk(10) #10 blocks in all 25 walk\n",
    "    print(walk, \"Distance from home = \",\n",
    "           abs(walk[0]) + abs(walk[1]) )   "
   ]
  },
  {
   "attachments": {},
   "cell_type": "markdown",
   "metadata": {},
   "source": [
    "#### Impl2"
   ]
  },
  {
   "cell_type": "code",
   "execution_count": 9,
   "metadata": {},
   "outputs": [
    {
     "name": "stdout",
     "output_type": "stream",
     "text": [
      "(1, -1) Distance from home =  2\n",
      "(3, 3) Distance from home =  6\n",
      "(2, 0) Distance from home =  2\n",
      "(1, 3) Distance from home =  4\n",
      "(2, -2) Distance from home =  4\n",
      "(0, 0) Distance from home =  0\n",
      "(0, 0) Distance from home =  0\n",
      "(-1, -1) Distance from home =  2\n",
      "(-2, -4) Distance from home =  6\n",
      "(1, 5) Distance from home =  6\n",
      "(2, 2) Distance from home =  4\n",
      "(0, 2) Distance from home =  2\n",
      "(-1, 1) Distance from home =  2\n",
      "(-1, 1) Distance from home =  2\n",
      "(-3, -1) Distance from home =  4\n",
      "(-2, -4) Distance from home =  6\n",
      "(0, 0) Distance from home =  0\n",
      "(-1, -1) Distance from home =  2\n",
      "(-1, 3) Distance from home =  4\n",
      "(0, -2) Distance from home =  2\n",
      "(2, 0) Distance from home =  2\n",
      "(0, 0) Distance from home =  0\n",
      "(-3, 1) Distance from home =  4\n",
      "(0, 0) Distance from home =  0\n",
      "(4, 0) Distance from home =  4\n",
      "The longest walk is  6\n"
     ]
    }
   ],
   "source": [
    "def random_walk2(n):\n",
    "    x,y = 0, 0\n",
    "    for i in range(n):\n",
    "        (dx,dy) = random.choice([(0,1), (0,-1), (1,0), (-1,0)])\n",
    "        x += dx\n",
    "        y += dy\n",
    "    return (x,y)\n",
    "\n",
    "num_list = []\n",
    "distance = 0\n",
    "for i in range(25):\n",
    "    walk = random_walk(10) #10 steps in all 25 walks\n",
    "    distance = abs(walk[0]) + abs(walk[1])\n",
    "    num_list.append(distance)\n",
    "    print(walk, \"Distance from home = \", distance) \n",
    "    \n",
    "if(max(num_list) > 3):\n",
    "    print(\"The longest walk is \",max(num_list))\n",
    "else:\n",
    "    print(\"None\")     \n",
    "    "
   ]
  },
  {
   "attachments": {},
   "cell_type": "markdown",
   "metadata": {},
   "source": [
    "### Monte Carlo Simulation"
   ]
  },
  {
   "cell_type": "code",
   "execution_count": 10,
   "metadata": {},
   "outputs": [
    {
     "name": "stdout",
     "output_type": "stream",
     "text": [
      "Walk size =  1 / % of no transport =  100.0\n",
      "Walk size =  2 / % of no transport =  100.0\n",
      "Walk size =  3 / % of no transport =  100.0\n",
      "Walk size =  4 / % of no transport =  100.0\n",
      "Walk size =  5 / % of no transport =  87.99\n",
      "Walk size =  6 / % of no transport =  94.08999999999999\n",
      "Walk size =  7 / % of no transport =  76.72\n",
      "Walk size =  8 / % of no transport =  86.45\n",
      "Walk size =  9 / % of no transport =  68.04\n",
      "Walk size =  10 / % of no transport =  80.35\n",
      "Walk size =  11 / % of no transport =  60.18\n",
      "Walk size =  12 / % of no transport =  71.81\n",
      "Walk size =  13 / % of no transport =  53.169999999999995\n",
      "Walk size =  14 / % of no transport =  67.91\n",
      "Walk size =  15 / % of no transport =  48.949999999999996\n",
      "Walk size =  16 / % of no transport =  62.32\n",
      "Walk size =  17 / % of no transport =  44.58\n",
      "Walk size =  18 / % of no transport =  56.86\n",
      "Walk size =  19 / % of no transport =  41.08\n",
      "Walk size =  20 / % of no transport =  54.22\n",
      "Walk size =  21 / % of no transport =  38.25\n",
      "Walk size =  22 / % of no transport =  50.57000000000001\n",
      "Walk size =  23 / % of no transport =  35.21\n",
      "Walk size =  24 / % of no transport =  47.83\n",
      "Walk size =  25 / % of no transport =  32.72\n",
      "Walk size =  26 / % of no transport =  45.48\n",
      "Walk size =  27 / % of no transport =  30.599999999999998\n",
      "Walk size =  28 / % of no transport =  43.29\n",
      "Walk size =  29 / % of no transport =  28.970000000000002\n",
      "Walk size =  30 / % of no transport =  40.77\n"
     ]
    }
   ],
   "source": [
    "number_of_walks = 10000\n",
    "\n",
    "for walk_length in range(1, 31):\n",
    "    no_transport = 0 # steps < 4 from origin\n",
    "    for i in range(number_of_walks):\n",
    "        (x,y) = random_walk2(walk_length)\n",
    "        distance = abs(x) + abs(y)\n",
    "        if distance <= 4:\n",
    "            no_transport += 1\n",
    "    no_transport_percentage = float(no_transport) / number_of_walks\n",
    "    print(\"Walk size = \", walk_length, \"/ % of no transport = \", 100 * no_transport_percentage)        \n",
    "        "
   ]
  },
  {
   "attachments": {},
   "cell_type": "markdown",
   "metadata": {},
   "source": [
    "### Simulate a rolling dice"
   ]
  },
  {
   "cell_type": "code",
   "execution_count": 22,
   "metadata": {},
   "outputs": [
    {
     "data": {
      "text/html": [
       "<div>\n",
       "<style scoped>\n",
       "    .dataframe tbody tr th:only-of-type {\n",
       "        vertical-align: middle;\n",
       "    }\n",
       "\n",
       "    .dataframe tbody tr th {\n",
       "        vertical-align: top;\n",
       "    }\n",
       "\n",
       "    .dataframe thead th {\n",
       "        text-align: right;\n",
       "    }\n",
       "</style>\n",
       "<table border=\"1\" class=\"dataframe\">\n",
       "  <thead>\n",
       "    <tr style=\"text-align: right;\">\n",
       "      <th></th>\n",
       "      <th>roll</th>\n",
       "    </tr>\n",
       "  </thead>\n",
       "  <tbody>\n",
       "    <tr>\n",
       "      <th>0</th>\n",
       "      <td>1</td>\n",
       "    </tr>\n",
       "    <tr>\n",
       "      <th>1</th>\n",
       "      <td>2</td>\n",
       "    </tr>\n",
       "    <tr>\n",
       "      <th>2</th>\n",
       "      <td>6</td>\n",
       "    </tr>\n",
       "    <tr>\n",
       "      <th>3</th>\n",
       "      <td>2</td>\n",
       "    </tr>\n",
       "    <tr>\n",
       "      <th>4</th>\n",
       "      <td>4</td>\n",
       "    </tr>\n",
       "    <tr>\n",
       "      <th>5</th>\n",
       "      <td>5</td>\n",
       "    </tr>\n",
       "    <tr>\n",
       "      <th>6</th>\n",
       "      <td>3</td>\n",
       "    </tr>\n",
       "    <tr>\n",
       "      <th>7</th>\n",
       "      <td>6</td>\n",
       "    </tr>\n",
       "    <tr>\n",
       "      <th>8</th>\n",
       "      <td>1</td>\n",
       "    </tr>\n",
       "    <tr>\n",
       "      <th>9</th>\n",
       "      <td>2</td>\n",
       "    </tr>\n",
       "  </tbody>\n",
       "</table>\n",
       "</div>"
      ],
      "text/plain": [
       "   roll\n",
       "0     1\n",
       "1     2\n",
       "2     6\n",
       "3     2\n",
       "4     4\n",
       "5     5\n",
       "6     3\n",
       "7     6\n",
       "8     1\n",
       "9     2"
      ]
     },
     "execution_count": 22,
     "metadata": {},
     "output_type": "execute_result"
    }
   ],
   "source": [
    "import pandas as pd\n",
    "data = []\n",
    "n = 300\n",
    "for _ in range(n):\n",
    "    roll = random.randint(1,6)\n",
    "    d = { \"roll\": roll }\n",
    "    data.append(d)\n",
    "\n",
    "df = pd.DataFrame(data) \n",
    "df.head(10)"
   ]
  },
  {
   "attachments": {},
   "cell_type": "markdown",
   "metadata": {},
   "source": [
    "### What is our estimated probability of rolling a number less than 4?"
   ]
  },
  {
   "cell_type": "code",
   "execution_count": 27,
   "metadata": {},
   "outputs": [
    {
     "data": {
      "text/plain": [
       "53.333333333333336"
      ]
     },
     "execution_count": 27,
     "metadata": {},
     "output_type": "execute_result"
    }
   ],
   "source": [
    "#METHOD 1\n",
    "counts = df.value_counts()\n",
    "counts\n",
    "less_fours = n - (counts[5] + counts[6] + counts[4])\n",
    "prob = (less_fours / n) *100\n",
    "prob"
   ]
  },
  {
   "cell_type": "code",
   "execution_count": 32,
   "metadata": {},
   "outputs": [
    {
     "data": {
      "text/plain": [
       "roll    53.333333\n",
       "dtype: float64"
      ]
     },
     "execution_count": 32,
     "metadata": {},
     "output_type": "execute_result"
    }
   ],
   "source": [
    "#METHOD 2\n",
    "less_than_four = df[df.roll < 4].count()\n",
    "probability = (less_than_four / n ) * 100\n",
    "probability "
   ]
  },
  {
   "attachments": {},
   "cell_type": "markdown",
   "metadata": {},
   "source": [
    "### Simulate tossing of 2 fair coins"
   ]
  },
  {
   "cell_type": "code",
   "execution_count": 41,
   "metadata": {},
   "outputs": [
    {
     "data": {
      "text/html": [
       "<div>\n",
       "<style scoped>\n",
       "    .dataframe tbody tr th:only-of-type {\n",
       "        vertical-align: middle;\n",
       "    }\n",
       "\n",
       "    .dataframe tbody tr th {\n",
       "        vertical-align: top;\n",
       "    }\n",
       "\n",
       "    .dataframe thead th {\n",
       "        text-align: right;\n",
       "    }\n",
       "</style>\n",
       "<table border=\"1\" class=\"dataframe\">\n",
       "  <thead>\n",
       "    <tr style=\"text-align: right;\">\n",
       "      <th></th>\n",
       "      <th>coin1</th>\n",
       "      <th>coin2</th>\n",
       "    </tr>\n",
       "  </thead>\n",
       "  <tbody>\n",
       "    <tr>\n",
       "      <th>0</th>\n",
       "      <td>tail</td>\n",
       "      <td>tail</td>\n",
       "    </tr>\n",
       "    <tr>\n",
       "      <th>1</th>\n",
       "      <td>head</td>\n",
       "      <td>head</td>\n",
       "    </tr>\n",
       "    <tr>\n",
       "      <th>2</th>\n",
       "      <td>head</td>\n",
       "      <td>head</td>\n",
       "    </tr>\n",
       "    <tr>\n",
       "      <th>3</th>\n",
       "      <td>head</td>\n",
       "      <td>head</td>\n",
       "    </tr>\n",
       "    <tr>\n",
       "      <th>4</th>\n",
       "      <td>tail</td>\n",
       "      <td>head</td>\n",
       "    </tr>\n",
       "  </tbody>\n",
       "</table>\n",
       "</div>"
      ],
      "text/plain": [
       "  coin1 coin2\n",
       "0  tail  tail\n",
       "1  head  head\n",
       "2  head  head\n",
       "3  head  head\n",
       "4  tail  head"
      ]
     },
     "execution_count": 41,
     "metadata": {},
     "output_type": "execute_result"
    }
   ],
   "source": [
    "data2 = []\n",
    "num_experiments = 400\n",
    "two_heads = 0\n",
    "for _ in range(num_experiments):\n",
    "    coin1 = random.choice([\"head\",\"tail\"])\n",
    "    coin2 = random.choice([\"head\", \"tail\"])\n",
    "    dictionary = {\"coin1\": coin1, \"coin2\": coin2}\n",
    "    if(coin1 == \"head\") and (coin2 == \"tail\"):\n",
    "        two_heads = two_heads + 1\n",
    "    data2.append(dictionary)\n",
    "\n",
    "df2 = pd.DataFrame(data2)\n",
    "df2.head()   "
   ]
  },
  {
   "attachments": {},
   "cell_type": "markdown",
   "metadata": {},
   "source": [
    "### Probability of tossing 2 heads"
   ]
  },
  {
   "cell_type": "code",
   "execution_count": 42,
   "metadata": {},
   "outputs": [
    {
     "data": {
      "text/plain": [
       "26.0"
      ]
     },
     "execution_count": 42,
     "metadata": {},
     "output_type": "execute_result"
    }
   ],
   "source": [
    "heads = (two_heads / num_experiments) * 100\n",
    "heads"
   ]
  },
  {
   "cell_type": "code",
   "execution_count": null,
   "metadata": {},
   "outputs": [],
   "source": []
  }
 ],
 "metadata": {
  "kernelspec": {
   "display_name": "Python 3",
   "language": "python",
   "name": "python3"
  },
  "language_info": {
   "codemirror_mode": {
    "name": "ipython",
    "version": 3
   },
   "file_extension": ".py",
   "mimetype": "text/x-python",
   "name": "python",
   "nbconvert_exporter": "python",
   "pygments_lexer": "ipython3",
   "version": "3.10.7"
  },
  "orig_nbformat": 4
 },
 "nbformat": 4,
 "nbformat_minor": 2
}
