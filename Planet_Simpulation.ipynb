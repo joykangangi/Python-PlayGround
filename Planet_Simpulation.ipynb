{
  "cells": [
    {
      "cell_type": "code",
      "execution_count": null,
      "metadata": {
        "id": "-Hekyj3-VfAL",
        "outputId": "99f089da-2e51-4f81-9df5-dd49be605dae"
      },
      "outputs": [
        {
          "name": "stdout",
          "output_type": "stream",
          "text": [
            "Collecting pygame\n",
            "  Downloading pygame-2.4.0-cp310-cp310-win_amd64.whl (10.6 MB)\n",
            "     -------------------------------------- 10.6/10.6 MB 189.8 kB/s eta 0:00:00\n",
            "Installing collected packages: pygame\n",
            "Successfully installed pygame-2.4.0\n",
            "Note: you may need to restart the kernel to use updated packages.\n"
          ]
        }
      ],
      "source": [
        "#2D graphics library for simulation\n",
        "pip install pygame"
      ]
    },
    {
      "cell_type": "code",
      "execution_count": null,
      "metadata": {
        "id": "FBC1mph4VfAR",
        "outputId": "a9745046-9028-4301-9652-3f029bff27ee"
      },
      "outputs": [
        {
          "name": "stdout",
          "output_type": "stream",
          "text": [
            "pygame 2.4.0 (SDL 2.26.4, Python 3.10.7)\n",
            "Hello from the pygame community. https://www.pygame.org/contribute.html\n"
          ]
        }
      ],
      "source": [
        "import pygame\n",
        "import math"
      ]
    },
    {
      "cell_type": "code",
      "execution_count": null,
      "metadata": {
        "id": "yDPe65zIVfAS"
      },
      "outputs": [],
      "source": [
        "pygame.init()\n",
        "\n",
        "WIDTH, HEIGHT = 800, 800 #square\n",
        "WIN = pygame.display.set_mode((WIDTH, HEIGHT))\n",
        "pygame.display.set_caption(\"Planet Simulation-Joy\")\n",
        "\n",
        "WHITE = (255,255,255)\n",
        "YELLOW = (255,255,0)\n",
        "BLUE = (0,255,255)\n",
        "RED = (188,39,50)\n",
        "DARK_GREY = (80,78,81)\n",
        "\n",
        "def main():\n",
        "    run = True\n",
        "    clock = pygame.time.Clock()\n",
        "\n",
        "    sun = Planet(x = 0, y= 0 ,radius=30, color= YELLOW,mass=1.98892*10**30)\n",
        "    sun.sun = True\n",
        "    earth = Planet(-1 * Planet.AU, 0 ,16, BLUE ,mass = 5.9742*10**24)\n",
        "    mars = Planet(-1.5 * Planet.AU, 0, 12,RED, mass=6.39*10**23  )\n",
        "    mercury = Planet(0.387 * Planet.AU, 0, 8, DARK_GREY, mass= 0.330*10**23)\n",
        "    venus= Planet(0.723 * Planet.AU, 0, 14, WHITE, mass= 4.8685 *10**24)\n",
        "\n",
        "    planets = [sun, earth, mars, mercury, venus]\n",
        "\n",
        "\n",
        "    while run:\n",
        "        clock.tick(60)\n",
        "        #WIN.fill(WHITE)\n",
        "        #\n",
        "\n",
        "        for event in pygame.event.get():\n",
        "            if event.type == pygame.QUIT:\n",
        "                run = False\n",
        "\n",
        "        for planet in planets:\n",
        "            planet.draw(WIN)\n",
        "\n",
        "        pygame.display.update()\n",
        "    pygame.quit()\n",
        "\n",
        "main()\n",
        ""
      ]
    },
    {
      "cell_type": "code",
      "execution_count": null,
      "metadata": {
        "id": "diJpqzCiVfAT"
      },
      "outputs": [],
      "source": [
        "class Planet:\n",
        "    AU = 149.6e6 * 1000 #astronomical unit;get the dist from the sun in metres\n",
        "    G = 6.67428e-11 #gravity\n",
        "    SCALE = 200 / AU #1AU = 100pxls\n",
        "    TIMESTEP = 3600 * 24 #1DAY\n",
        "    def __init__(self,x,y,radius, color, mass) :\n",
        "        self.x = x\n",
        "        self.y = y\n",
        "        self.radius = radius\n",
        "        self.color = color\n",
        "        self.mass = mass\n",
        "\n",
        "        self.orbit = []\n",
        "        self.sun = False\n",
        "        self.dist_to_sun = 0\n",
        "\n",
        "        self.x_vel = 0\n",
        "        self.y_vel = 0\n",
        "\n",
        "\n",
        "    def draw(self, win):\n",
        "        x = self.x * self.SCALE + WIDTH / 2\n",
        "        y = self.y * self.SCALE + HEIGHT / 2\n",
        "        pygame.draw.circle(win, self.color, (x,y), self.radius)\n",
        "\n",
        "\n",
        "    def attraction(self, other):\n",
        "        other_x, other_y = other.x, other.y\n",
        "        distance_X =other_x - self.x\n",
        "        distance_Y  = other_y - self.y\n",
        "        distance = math.sqrt((distance_X ** 2) + (distance_Y ** 2))\n",
        "\n",
        "        if other.sun:\n",
        "            self.dist_to_sun = distance\n",
        "\n",
        "        force = self.G * self.mass * other.mass / distance ** 2\n",
        "        theta = math.atan2(distance_Y, distance_X)\n",
        "        force_X = math.cos(theta) * force\n",
        "        force_Y = math.sin(theta) * force\n",
        "        return force_X, force_Y\n",
        "\n",
        "\n",
        ""
      ]
    },
    {
      "cell_type": "code",
      "execution_count": null,
      "metadata": {
        "id": "SAWyjcs-VfAU"
      },
      "outputs": [],
      "source": [
        "\n"
      ]
    }
  ],
  "metadata": {
    "kernelspec": {
      "display_name": "Python 3",
      "language": "python",
      "name": "python3"
    },
    "language_info": {
      "codemirror_mode": {
        "name": "ipython",
        "version": 3
      },
      "file_extension": ".py",
      "mimetype": "text/x-python",
      "name": "python",
      "nbconvert_exporter": "python",
      "pygments_lexer": "ipython3",
      "version": "3.10.7"
    },
    "orig_nbformat": 4,
    "colab": {
      "provenance": []
    }
  },
  "nbformat": 4,
  "nbformat_minor": 0
}