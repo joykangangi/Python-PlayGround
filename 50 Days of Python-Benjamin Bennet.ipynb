{
 "cells": [
  {
   "cell_type": "markdown",
   "id": "5562e016",
   "metadata": {},
   "source": [
    "# Day 1   "
   ]
  },
  {
   "cell_type": "code",
   "execution_count": null,
   "id": "2ebb59ff",
   "metadata": {},
   "outputs": [],
   "source": [
    "def divide_or_square(num): if num%5 == 0: return num ** 0.5 else: return num%5 print(divide_or_square(10))"
   ]
  }
 ],
 "metadata": {
  "kernelspec": {
   "display_name": "Python 3 (ipykernel)",
   "language": "python",
   "name": "python3"
  },
  "language_info": {
   "codemirror_mode": {
    "name": "ipython",
    "version": 3
   },
   "file_extension": ".py",
   "mimetype": "text/x-python",
   "name": "python",
   "nbconvert_exporter": "python",
   "pygments_lexer": "ipython3",
   "version": "3.9.12"
  }
 },
 "nbformat": 4,
 "nbformat_minor": 5
}
