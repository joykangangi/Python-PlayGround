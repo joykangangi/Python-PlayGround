{
 "cells": [
  {
   "cell_type": "markdown",
   "id": "6be29af8",
   "metadata": {},
   "source": [
    "# Day 1   "
   ]
  },
  {
   "cell_type": "code",
   "execution_count": null,
   "id": "0bba2480",
   "metadata": {},
   "outputs": [],
   "source": [
    "def divide_or_square(num): if num%5 == 0: return num ** 0.5 else: return num%5 print(divide_or_square(10))"
   ]
  },
  {
   "cell_type": "markdown",
   "id": "d1683bff",
   "metadata": {},
   "source": [
    "## Extra challenge "
   ]
  },
  {
   "cell_type": "code",
   "execution_count": 15,
   "id": "c970661b",
   "metadata": {},
   "outputs": [
    {
     "name": "stdout",
     "output_type": "stream",
     "text": [
      "apple\n"
     ]
    }
   ],
   "source": [
    "def longest_value(dictionary: dict):\n",
    "    key1 = max(dictionary, key = len)\n",
    "    print(dictionary[key1])    \n",
    "   \n",
    "my_dictionary = {'fruit':'apple', 'color':'green'}\n",
    "longest_value(my_dictionary)"
   ]
  },
  {
   "cell_type": "code",
   "execution_count": null,
   "id": "7aa049e2",
   "metadata": {},
   "outputs": [],
   "source": []
  }
 ],
 "metadata": {
  "kernelspec": {
   "display_name": "Python 3 (ipykernel)",
   "language": "python",
   "name": "python3"
  },
  "language_info": {
   "codemirror_mode": {
    "name": "ipython",
    "version": 3
   },
   "file_extension": ".py",
   "mimetype": "text/x-python",
   "name": "python",
   "nbconvert_exporter": "python",
   "pygments_lexer": "ipython3",
   "version": "3.9.12"
  }
 },
 "nbformat": 4,
 "nbformat_minor": 5
}
